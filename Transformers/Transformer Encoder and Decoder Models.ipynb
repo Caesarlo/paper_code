{
 "cells": [
  {
   "cell_type": "markdown",
   "metadata": {
    "collapsed": false,
    "pycharm": {
     "name": "#%% md\n"
    }
   },
   "source": [
    "# Transformer Encoder and Decoder Models"
   ]
  },
  {
   "cell_type": "code",
   "execution_count": 3,
   "metadata": {
    "collapsed": false,
    "pycharm": {
     "name": "#%%\n"
    }
   },
   "outputs": [],
   "source": [
    "import math\n",
    "import torch\n",
    "import torch.nn as nn\n",
    "\n",
    "from labml_nn.utils import clone_module_list\n",
    "from feed_forward import FeedForward\n",
    "from mha import MultiHeadAttention\n",
    "from positional_encoding import get_positional_encoding"
   ]
  },
  {
   "cell_type": "markdown",
   "metadata": {
    "collapsed": false,
    "pycharm": {
     "name": "#%% md\n"
    }
   },
   "source": [
    "# Embed tokens and add fixed positional encoding"
   ]
  },
  {
   "cell_type": "code",
   "execution_count": 5,
   "metadata": {
    "collapsed": false,
    "pycharm": {
     "name": "#%%\n"
    }
   },
   "outputs": [],
   "source": [
    "class EmbeddingWithPositionalEncoding(nn.Module):\n",
    "    def __init__(self, d_model: int, n_vocab: int, max_len: int = 5000):\n",
    "        super().__init__()\n",
    "        self.linear = nn.Embedding(n_vocab, d_model)\n",
    "        self.d_model = d_model\n",
    "        self.register_buffer('positional_encodings', get_positional_encoding(d_model, max_len))\n",
    "\n",
    "    def forward(self, x: torch.Tensor):\n",
    "        pe = self.positional_encodings[:x.shape[0]].requires_grad_(False)\n",
    "        return self.linear(x) * math.sqrt(self.d_model) + pe"
   ]
  },
  {
   "cell_type": "markdown",
   "metadata": {
    "collapsed": false,
    "pycharm": {
     "name": "#%% md\n"
    }
   },
   "source": [
    "# Embed tokens and add parameterized positional encodings"
   ]
  },
  {
   "cell_type": "code",
   "execution_count": null,
   "metadata": {
    "collapsed": false,
    "pycharm": {
     "name": "#%%\n"
    }
   },
   "outputs": [],
   "source": [
    "class EmbeddingsWithLearnedPositionalEncoding(nn.Module):\n",
    "    def __init__(self, d_model: int, n_vocab: int, max_len: int = 5000):\n",
    "        super().__init__()\n",
    "        self.linear = nn.Embedding(n_vocab, d_model)\n",
    "        self.d_model = d_model\n",
    "        self.positional_encodings = nn.Parameter(torch.zeros(max_len, 1, d_model), requires_grad=True)\n",
    "\n",
    "    def forward(self, x: torch.Tensor):\n",
    "        pe = self.positional_encodings[:x.shape[0]]\n",
    "        return self.linear(x) * math.sqrt(self.d_model) + pe"
   ]
  },
  {
   "cell_type": "markdown",
   "metadata": {
    "collapsed": false,
    "pycharm": {
     "name": "#%% md\n"
    }
   },
   "source": [
    "# Transformer Layer\n",
    "This can act as an encoder layer or a decoder layer.\n",
    "\n",
    "🗒 Some implementations, including the paper seem to have differences in where the layer-normalization is done. Here we do a layer normalization before attention and feed-forward networks, and add the original residual vectors. Alternative is to do a layer normalization after adding the residuals. But we found this to be less stable when training. We found a detailed discussion about this in the paper On Layer Normalization in the Transformer Architecture."
   ]
  },
  {
   "cell_type": "code",
   "execution_count": null,
   "outputs": [],
   "source": [
    "class TransformerLayer(nn.Module):\n",
    "    def __init(self, *,\n",
    "               d_model: int,\n",
    "               self_attn: MultiHeadAttention,\n",
    "               src_attn: MultiHeadAttention = None,\n",
    "               feed_forward: FeedForward,\n",
    "               dropout_prob: float):\n",
    "        super().__init__()\n",
    "        self.size = d_model\n",
    "        self.self_attn = self_attn\n",
    "        self.src_attn = src_attn\n",
    "        self.feed_forward = feed_forward\n",
    "        self.dropout = nn.Dropout(dropout_prob)\n",
    "        self.norm_self_attn = nn.LayerNorm([d_model])\n",
    "        if self.src_attn is not None:\n",
    "            self.norm_src_attn = nn.LayerNorm([d_model])\n",
    "        self.norm_ff = nn.LayerNorm([d_model])\n",
    "        # Whether to save input to the feed forward layer\n",
    "        self.is_save_ff_input = False\n",
    "\n",
    "    def forward(self, *,\n",
    "                x: torch.Tensor,\n",
    "                mask: torch.Tensor,\n",
    "                src: torch.Tensor,\n",
    "                src_mask: torch.Tensor):\n",
    "        # Normalize the vectors before doing self attention\n",
    "        z = self.norm_self_attn(x)\n",
    "        # Run through self attention, i.e. keys and values are from self\n",
    "        self_attn = self.self_attn(query=z, key=z, value=z, mask=mask)\n",
    "        # Add the self attention results\n",
    "        x = x + self.dropout(self_attn)\n",
    "        # If a source is provided, get results from attention to source. This is when you have a decoder layer that pays attention to encoder outputs\n",
    "        if src is not None:\n",
    "            # Normalize vectors\n",
    "            z = self.norm_src_attn(x)\n",
    "            # Attention to source. i.e. keys and values are from source\n",
    "            attn_src = self.src_attn(\n",
    "                query=z, key=src, value=src, mask=src_mask)\n",
    "            # Add the source attention results\n",
    "            x = x + self.dropout(attn_src)\n",
    "        # Normalize for feed-forward\n",
    "        z = self.norm_ff(x)\n",
    "        # Save the input to the feed forward layer if specified\n",
    "        if self.is_save_ff_input:\n",
    "            self.ff_input = z.clone()\n",
    "        # Pass through the feed-forward network\n",
    "        ff = self.feed_forward(z)\n",
    "        # Add the feed-forward results back\n",
    "        x = x + self.dropout(ff)\n",
    "        return x"
   ],
   "metadata": {
    "collapsed": false,
    "pycharm": {
     "name": "#%%\n"
    }
   }
  },
  {
   "attachments": {},
   "cell_type": "markdown",
   "metadata": {
    "pycharm": {
     "name": "#%% md\n"
    }
   },
   "source": [
    "# Transformer Encoder"
   ]
  },
  {
   "cell_type": "code",
   "execution_count": null,
   "metadata": {
    "pycharm": {
     "name": "#%%\n"
    }
   },
   "outputs": [],
   "source": [
    "class Encoder(nn.Module):\n",
    "    def __init__(self, layer: TransformerLayer, n_layers: int):\n",
    "        super().__init__()\n",
    "        # Make copies of the transformer layer\n",
    "        self.layers = clone_module_list(layer, n_layers)\n",
    "        # Final normalization layer\n",
    "        self.norm = nn.LayerNorm([layer.size])\n",
    "\n",
    "    def forward(self, x: torch.Tensor, mask: torch.Tensor):\n",
    "        # Run through each transformer layer\n",
    "        for layer in self.layers:\n",
    "            x = layer(x=x, mask=mask)\n",
    "        # Finally, normalize the vectors\n",
    "        return self.norm(x)"
   ]
  },
  {
   "cell_type": "markdown",
   "source": [
    "# Transformer Decoder"
   ],
   "metadata": {
    "collapsed": false,
    "pycharm": {
     "name": "#%% md\n"
    }
   }
  },
  {
   "cell_type": "code",
   "execution_count": null,
   "outputs": [],
   "source": [
    "class Decoder(nn.Module):\n",
    "    def __init__(self, layer: TransformerLayer, n_layers: int):\n",
    "        super().__init__()\n",
    "        # Make copies of the transformer layer\n",
    "        self.layers = clone_module_list(layer, n_layers)\n",
    "        # Final normalization layer\n",
    "        self.norm = nn.LayerNorm([layer.size])\n",
    "\n",
    "    def forward(self, x: torch.Tensor, memory: torch.Tensor, src_mask: torch.Tensor, tgt_mask: torch.Tensor):\n",
    "        # Run through each transformer layer\n",
    "        for layer in self.layers:\n",
    "            x = layer(x=x, mask=tgt_mask, src=memory, src_mask=src_mask)\n",
    "        # Finally, normalize the vectors\n",
    "        return self.norm(x)"
   ],
   "metadata": {
    "collapsed": false,
    "pycharm": {
     "name": "#%%\n"
    }
   }
  },
  {
   "cell_type": "markdown",
   "source": [
    "# Generator"
   ],
   "metadata": {
    "collapsed": false,
    "pycharm": {
     "name": "#%% md\n"
    }
   }
  },
  {
   "cell_type": "code",
   "execution_count": null,
   "outputs": [],
   "source": [
    "class Generator(nn.Module):\n",
    "    # This predicts the tokens and gives the lof softmax of those. You don't need this if you are using nn.CrossEntropyLoss .\n",
    "    def __init__(self, n_vocab: int, d_model: int):\n",
    "        super().__init__()\n",
    "        self.projection = nn.Linear(d_model, n_vocab)\n",
    "\n",
    "    def forward(self, x):\n",
    "        return self.projection(x)"
   ],
   "metadata": {
    "collapsed": false,
    "pycharm": {
     "name": "#%%\n"
    }
   }
  },
  {
   "cell_type": "markdown",
   "source": [
    "# Combined Encoder-Decoder"
   ],
   "metadata": {
    "collapsed": false,
    "pycharm": {
     "name": "#%% md\n"
    }
   }
  },
  {
   "cell_type": "code",
   "execution_count": null,
   "outputs": [],
   "source": [
    "class EncoderDecoder(nn.Module):\n",
    "    def __init__(self, encoder: Encoder, decoder: Decoder, src_embed: nn.Module, tgt_embed: nn.Module,\n",
    "                 generator: nn.Module):\n",
    "        super().__init__()\n",
    "        self.encoder = encoder\n",
    "        self.decoder = decoder\n",
    "        self.src_embed = src_embed\n",
    "        self.tgt_embed = tgt_embed\n",
    "        self.generator = generator\n",
    "        # This was important from their code. Initialize parameters with Glorot / fan_avg.\n",
    "        for p in self.parameters():\n",
    "            if p.dim() > 1:\n",
    "                nn.init.xavier_uniform_(p)\n",
    "\n",
    "    def forward(self, src: torch.Tensor, tgt: torch.Tensor, src_mask: torch.Tensor, tgt_mask: torch.Tensor):\n",
    "        # Run the source through encoder\n",
    "        enc = self.encode(src, src_mask)\n",
    "        # Run encodings and targets through decoder\n",
    "        return self.decode(enc, src_mask, tgt, tgt_mask)\n",
    "\n",
    "    def encode(self, src: torch.Tensor, src_mask: torch.Tensor):\n",
    "        return self.encoder(self.src_embed(src), src_mask)\n",
    "\n",
    "    def decode(self, memory: torch.Tensor, src_mask: torch.Tensor, tgt: torch.Tensor, tgt_mask: torch.Tensor):\n",
    "        return self.decoder(self.tgt_embed(tgt), memory, src_mask, tgt_mask)"
   ],
   "metadata": {
    "collapsed": false,
    "pycharm": {
     "name": "#%%\n"
    }
   }
  }
 ],
 "metadata": {
  "kernelspec": {
   "display_name": "Python 3",
   "language": "python",
   "name": "python3"
  },
  "language_info": {
   "codemirror_mode": {
    "name": "ipython",
    "version": 2
   },
   "file_extension": ".py",
   "mimetype": "text/x-python",
   "name": "python",
   "nbconvert_exporter": "python",
   "pygments_lexer": "ipython2",
   "version": "2.7.6"
  }
 },
 "nbformat": 4,
 "nbformat_minor": 0
}