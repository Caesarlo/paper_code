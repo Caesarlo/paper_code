{
 "cells": [
  {
   "cell_type": "code",
   "execution_count": 1,
   "metadata": {
    "collapsed": false,
    "jupyter": {
     "outputs_hidden": false
    },
    "pycharm": {
     "name": "#%%\n"
    }
   },
   "outputs": [],
   "source": [
    "import math\n",
    "from typing import Optional, List\n",
    "\n",
    "import torch\n",
    "from torch import nn\n",
    "\n",
    "from labml import tracker"
   ]
  },
  {
   "cell_type": "markdown",
   "metadata": {
    "collapsed": false,
    "jupyter": {
     "outputs_hidden": false
    },
    "pycharm": {
     "name": "#%% md\n"
    }
   },
   "source": [
    "# Prepare for multi-head attention\n",
    "This module does a linear transformation and splits the vector into given number of heads for multi-head attention. This is used to transform **key**, **query**, and **value** vectors."
   ]
  },
  {
   "cell_type": "code",
   "execution_count": 3,
   "metadata": {
    "collapsed": false,
    "jupyter": {
     "outputs_hidden": false
    },
    "pycharm": {
     "name": "#%%\n"
    }
   },
   "outputs": [],
   "source": [
    "class PrepareForMultiHeadAttention(nn.Module):\n",
    "    def __init__(self, d_model: int, heads: int, d_k: int, bias: bool):\n",
    "        super().__init__()\n",
    "        self.linear = nn.Linear(d_model, heads * d_k, bias=bias)  # Linear layer for linear transform\n",
    "        self.heads = heads  # Number of heads\n",
    "        self.d_k = d_k  # Number of dimensions in vectors in each head\n",
    "\n",
    "    def forward(self, x: torch.Tensor):\n",
    "        head_shape = x.shape[\n",
    "                     :-1]  # Input has shape [seq_len, batch_size, d_model] or [batch_size, d_model] . We apply the linear transformation to the last dimension and split that into the heads.\n",
    "        x = self.linear(x)  # Linear ransform\n",
    "        x = x.view(*head_shape, self.heads, self.d_k)  # Split last dimension into heads\n",
    "        return x  # Output has shape [seq_len, batch_size, heads, d_k] or [batch_size, heads, d_model]"
   ]
  },
  {
   "cell_type": "markdown",
   "metadata": {
    "collapsed": false,
    "jupyter": {
     "outputs_hidden": false
    },
    "pycharm": {
     "name": "#%% md\n"
    }
   },
   "source": [
    "# Multi-Head Attention Module\n",
    "This computes scaled multi-headed attention for given query , key and value vectors.\n",
    "$$Attention(Q,K,V)=softmax\\left(\\frac{QK^\\top}{\\sqrt{d_k}}\\right)V$$\n",
    "In simple terms, it finds keys that matches the query, and gets the values of those keys.\n",
    "\n",
    "It uses dot-product of query and key as the indicator of how matching they are. Before taking the$softmax$the dot-products are scaled by $\\frac1{\\sqrt{d_k}}.$\n",
    " . This is done to avoid large dot-product values causing softmax to give very small gradients when $d_k$ is large.\n",
    "\n",
    "Softmax is calculated along the axis of of the sequence (or time).\n"
   ]
  },
  {
   "cell_type": "markdown",
   "source": [
    "#### Equation-1\n",
    "$$\\text{Calculate }QK^\\top\\mathrm{~or~}S_{ijbh}=\\sum_dQ_{ibhd}K_{jbhd}$$"
   ],
   "metadata": {
    "collapsed": false,
    "pycharm": {
     "name": "#%% md\n"
    }
   }
  },
  {
   "cell_type": "code",
   "execution_count": 4,
   "outputs": [],
   "source": [
    "class MultiHeadAttention(nn.Module):  # Multi-Head Attention Module\n",
    "    def __init__(self, heads: int, d_model: int, dropout_prob: float = 0.1,\n",
    "                 bias: bool = True):  # heads is the number of heads. d_model is the number of features in the query , key and value vectors.\n",
    "        super().__init__()\n",
    "        self.d_k = d_model // heads  # Number of features per head\n",
    "        self.heads = heads  # Number of heads\n",
    "        # These transform the query , key and value vectors for multi-headed attention.\n",
    "        self.query = PrepareForMultiHeadAttention(d_model, heads, self.d_k, bias=bias)\n",
    "        self.key = PrepareForMultiHeadAttention(d_model, heads, self.d_k, bias=bias)\n",
    "        self.value = PrepareForMultiHeadAttention(d_model, heads, self.d_k, bias=True)\n",
    "        self.softmax = nn.Softmax(dim=1)  # Softmax for attention along the time dimension of key\n",
    "        self.output = nn.Linear(d_model, d_model)  # Output layer\n",
    "        self.dropout = nn.Dropout(dropout_prob)  # Dropout\n",
    "        self.scale = 1 / math.sqrt(self.d_k)  # Scaling factor before the softmax\n",
    "        self.attn = None  # We store attentions so that it can be used for logging, or other computations if needed\n",
    "\n",
    "    def get_scores(self, query: torch.Tensor, key: torch.Tensor):\n",
    "        \"\"\"\n",
    "        :param query:\n",
    "        :param key:\n",
    "        :return:\n",
    "        Calculate scores between queries and keys. This method can be overridden for other variations like relative attention.\n",
    "        \"\"\"\n",
    "        return torch.einsum('ibhd,jbhd->ijbh', query, key)  # Calculate Equation-1\n",
    "\n",
    "    def prepare_mask(self, mask: torch.Tensor, query_shape: List[int], key_shape: List[int]):\n",
    "        \"\"\"\n",
    "        :param mask:\n",
    "        :param query_shape:\n",
    "        :param key_shape:\n",
    "        :return:\n",
    "        mask has shape [seq_len_q, seq_len_k, batch_size] , where first dimension is the query dimension. If the query dimension is equal to 1 it will be broadcasted.\n",
    "        \"\"\"\n",
    "        assert mask.shape[0] == 1 or mask.shape[0] == query_shape[0]\n",
    "        assert mask.shape[1] == key_shape[0]\n",
    "        assert mask.shape[2] == 1 or mask.shape[2] == query_shape[1]\n",
    "        mask = mask.unsqueeze(-1)  # Same mask applied to all heads.\n",
    "        return mask  # resulting mask has shape [seq_len_q, seq_len_k, batch_size, heads]\n",
    "\n",
    "    def forward(self, *, query: torch.Tensor, key: torch.Tensor, value: torch.Tensor,\n",
    "                mask: Optional[torch.Tensor] = None):\n",
    "        \"\"\"\n",
    "        :param query:\n",
    "        :param key:\n",
    "        :param value:\n",
    "        :param mask:\n",
    "        :return:\n",
    "        query , key and value are the tensors that store collection of query, key and value vectors. They have shape [seq_len, batch_size, d_model] .\n",
    "\n",
    "        mask has shape [seq_len, seq_len, batch_size] and mask[i, j, b] indicates whether for batch b , query at position i has access to key-value at position j .\n",
    "        \"\"\"\n",
    "        seq_len, batch_size, _ = query.shape  # query , key and value have shape [seq_len, batch_size, d_model]\n",
    "        if mask is not None:\n",
    "            mask = self.prepare_mask(mask, query.shape, key.shape)\n",
    "        # Prepare query , key and value for attention computation. These will then have shape [seq_len, batch_size, heads, d_k] .\n",
    "        query = self.query(query)\n",
    "        key = self.key(key)\n",
    "        value = self.value(value)\n",
    "        # Compute attention scores QK⊤. This gives a tensor of shape [seq_len, seq_len, batch_size, heads] .\n",
    "        scores = self.get_scores(query, key)\n",
    "        # Scale scores\n",
    "        scores *= self.scale\n",
    "        # Apply mask\n",
    "        if mask is not None:\n",
    "            scores = scores.masked_fill(mask == 0, float(\"-inf\"))\n",
    "        # softmax attention along the key sequence dimension\n",
    "        attn = self.softmax(scores)\n",
    "        # Save attentions if debugging\n",
    "        tracker.debug('attn', attn)\n",
    "        # Multiply by values\n",
    "        x = torch.einsum('ijbn,jbnd->ibnd', attn, value)\n",
    "        # Save attentions for any other calculations\n",
    "        self.attn = attn.detach()\n",
    "        # Concatenate multiple heads\n",
    "        x = x.reshape(seq_len, batch_size, -1)\n",
    "        return self.output(x)\n"
   ],
   "metadata": {
    "collapsed": false,
    "pycharm": {
     "name": "#%%\n"
    }
   }
  }
 ],
 "metadata": {
  "kernelspec": {
   "display_name": "Python 3 (ipykernel)",
   "language": "python",
   "name": "python3"
  },
  "language_info": {
   "codemirror_mode": {
    "name": "ipython",
    "version": 3
   },
   "file_extension": ".py",
   "mimetype": "text/x-python",
   "name": "python",
   "nbconvert_exporter": "python",
   "pygments_lexer": "ipython3",
   "version": "3.9.18"
  }
 },
 "nbformat": 4,
 "nbformat_minor": 4
}