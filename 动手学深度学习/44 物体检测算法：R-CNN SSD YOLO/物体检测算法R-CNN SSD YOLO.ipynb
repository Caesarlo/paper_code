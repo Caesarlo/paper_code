{
 "cells": [
  {
   "cell_type": "markdown",
   "source": [
    "# R-CNN\n",
    "- 使用启发式搜索算法来选择锚框\n",
    "- 使用预训练模型来对每个锚框抽取特征\n",
    "- 训练一个SVM来对类别分类\n",
    "- 训练一个线性回归模型来预测边缘框偏移\n",
    "## 兴趣区域(RoI)池化层\n",
    "- 给定一个锚框，均匀分割成n×m块，输出每块里的最大值\n",
    "- 不管锚框多大，总是输出 nm 个值\n",
    "## Fast RCNN\n",
    "- 使用CNN对图片抽取特征\n",
    "- 使用RoI池化层对每个锚框生成固定长度特征\n",
    "## Faster R-CNN\n",
    "- 使用一个区域提议网络来替代启发式搜索来获得更好的锚框\n",
    "## Mask R-CNN\n",
    "- 如果有像素级别的标号，使用FCN来利用这些信息\n",
    "# 总结\n",
    "- R-CNN 是最早、也是最有名的一类基于锚框和CNN的目标检测算法\n",
    "- Fast/FasterR-CNN持续提升性能\n",
    "- FasterR-CNN和Mask R-CNN是在最求高精度场景下的常用算法"
   ],
   "metadata": {
    "collapsed": false
   }
  },
  {
   "cell_type": "markdown",
   "source": [
    "# 单发多框检测(SSD)\n",
    "## 生成锚框\n",
    "- 对每个像素，生成多个以它为中心的锚框\n",
    "- 给定$n$个大小$s_{1},...,s_{n}$和$m$个高宽比，那么生成$n+m-1$个锚框，其大小和高宽比分别为:$$(s_1,r_1),(s_2,r_1),...,(s_n,r_1),(s_1,r_2),...,(s_1,r_m)$$\n",
    "- 一个基础网络来抽取特征，然后多个卷积层块来减半高宽\n",
    "- 在每段都生成锚框\n",
    " - 底部段来拟合小物体，顶部段来拟合大物体\n",
    "- 对每个锚框预测类别和边缘框\n",
    "# 总结\n",
    "- SSD通过单神经网络来检测模型\n",
    "- 以每个像素为中心的产生多个锚框\n",
    "- 在多个段的输出上进行多尺度的检测"
   ],
   "metadata": {
    "collapsed": false
   }
  },
  {
   "cell_type": "markdown",
   "source": [
    "# YOLO(你只看一次)\n",
    "- SSD中锚框大量重叠，因此浪费了很多计算\n",
    "- YOLO 将图片均匀分成$SxS$个锚框\n",
    "- 每个锚框预测$B$个边缘框\n",
    "- 后续版本$(V2,V3,V4...)$有持续改进"
   ],
   "metadata": {
    "collapsed": false
   }
  }
 ],
 "metadata": {
  "kernelspec": {
   "display_name": "Python 3",
   "language": "python",
   "name": "python3"
  },
  "language_info": {
   "codemirror_mode": {
    "name": "ipython",
    "version": 2
   },
   "file_extension": ".py",
   "mimetype": "text/x-python",
   "name": "python",
   "nbconvert_exporter": "python",
   "pygments_lexer": "ipython2",
   "version": "2.7.6"
  }
 },
 "nbformat": 4,
 "nbformat_minor": 0
}
