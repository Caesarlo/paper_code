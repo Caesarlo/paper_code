{
 "cells": [
  {
   "cell_type": "markdown",
   "source": [
    "# 分类猫和狗的图片\n",
    "使用一个还不错的相机采集图片 (12M像素)\n",
    "RGB 图片有36M元素\n",
    "使用100大小的单隐藏层MLP，模型有3.6B元素\n",
    "远多于世界上所有猫和狗总数 (900M 狗，600M 猫)"
   ],
   "metadata": {
    "collapsed": false,
    "pycharm": {
     "name": "#%% md\n"
    }
   }
  },
  {
   "cell_type": "markdown",
   "source": [
    "# 重新考察全连接层\n",
    "将输入和输出变形为矩阵 (宽度，高度)\n",
    "将权重变形为4-D张量 (h,w) 到(h',w')\n",
    "$$\n",
    "h_{i,j}=\\sum_{k,l}w_{i,j,k,l}x_{k,l}=\\sum_{a,b}\\nu_{i,j,a,b}x_{i+a,j+b}\n",
    "$$\n",
    "V是W 的重新索引$v_{i,j,a,b}=w_{i,j,i+a,j+b}$"
   ],
   "metadata": {
    "collapsed": false,
    "pycharm": {
     "name": "#%% md\n"
    }
   }
  },
  {
   "cell_type": "markdown",
   "source": [
    "# 原则 #1- 平移不变性\n",
    "x的平移导致h 的平移 $h_{i,j}=\\displaystyle\\sum_{a,b}\\nu_{i,j,a,b}x_{i+a,j+b}$\n",
    "不应该依赖于(i,j)\n",
    "解决方案: $v_{i,j,a,b}=v_{a,b}$\n",
    "$h_{i,j}=\\sum_{a,b}\\nu_{a,b}x_{i+a,j+b}$\n",
    "这就是2维(卷积) 交叉相关"
   ],
   "metadata": {
    "collapsed": false,
    "pycharm": {
     "name": "#%% md\n"
    }
   }
  },
  {
   "cell_type": "markdown",
   "source": [
    "# 原则 \\#2-局部性\n",
    "$$h_{i,j}=\\sum_{a,b}\\nu_{a,b}x_{i+a,j+b}\\\\$$\n",
    "$\\text{当评估 }h_{i,j}\\text{时,我们不应该用远离 }x_{i,j}\\text{的参数}\\\\$\n",
    "$\\text{解决方案:当}|a|,|b|>\\Delta\\text{ 时,使得 }\\nu_{a,b}=0$\n",
    "$$h_{i,j}=\\sum_{a=-\\Delta}^\\Delta\\sum_{b=-\\Delta}^\\Delta\\nu_{a,b}x_{i+a,j+b}$$"
   ],
   "metadata": {
    "collapsed": false,
    "pycharm": {
     "name": "#%% md\n"
    }
   }
  },
  {
   "cell_type": "markdown",
   "source": [
    "# 总结·\n",
    "对全连接层使用平移不变性和局部性得到卷积层\n",
    "$$h_{i,j}=\\sum_{a,b}\\nu_{i,j,a,b}x_{i+a,j+b}$$\n",
    "$$\\Downarrow$$\n",
    "$$h_{i,j}=\\sum_{a=-\\Delta}^{\\Delta}\\sum_{b=-\\Delta}^{\\Delta}\\nu_{a,b}x_{i+a,j+b}$$"
   ],
   "metadata": {
    "collapsed": false,
    "pycharm": {
     "name": "#%% md\n"
    }
   }
  },
  {
   "cell_type": "markdown",
   "source": [
    "# 卷积层"
   ],
   "metadata": {
    "collapsed": false,
    "pycharm": {
     "name": "#%% md\n"
    }
   }
  },
  {
   "cell_type": "markdown",
   "source": [
    "# 二维卷积层\n",
    "·输入$\\mathbf{x}:n_{h}\\times n_{w}$\n",
    "·核$\\mathbf{w}:k_{h}\\times k_{w}$\n",
    " ·偏差$b\\in\\mathbb{R}$\n",
    " ·输出$\\mathbf{Y}:(n_{h}-k_{h}+1)\\times(n_{w}-k_{w}+1)$\n",
    " $$\\mathbf{Y}=\\mathbf{X}\\star\\mathbf{W}+b$$\n",
    " ·$\\mathbf{W}$和$b$是可学习的参数"
   ],
   "metadata": {
    "collapsed": false,
    "pycharm": {
     "name": "#%% md\n"
    }
   }
  },
  {
   "cell_type": "markdown",
   "source": [
    "# 交叉相关vs卷积\n",
    "二维交叉相关\n",
    "$$y_{i,j}=\\sum_{a=1}^{h}\\sum_{b=1}^{w}w_{a,b}x_{i+a,j+b}$$\n",
    "二维卷积\n",
    "$$y_{i,j}=\\sum_{a=1}^{h}\\sum_{b=1}^{w}w_{-a,-b}x_{i+a,j+b}$$\n",
    "由于对称性，在实际使用中没有区别"
   ],
   "metadata": {
    "collapsed": false,
    "pycharm": {
     "name": "#%% md\n"
    }
   }
  },
  {
   "cell_type": "markdown",
   "source": [
    "# 一维和三维交叉相关\n",
    "·一维\n",
    "$$y_i=\\sum_{a=1}^hw_ax_{i+a}$$\n",
    "·文本\n",
    "·语言\n",
    "·时序序列\n",
    "\n",
    "·三维\n",
    "$$y_{i,j,k}=\\sum_{a=1}^{h}\\sum_{b=1}^{w}\\sum_{c=1}^{d}w_{a,b,c}x_{i+a,j+b,k+c}$$\n",
    "·视频\n",
    "·医学影像\n",
    "·气象地图"
   ],
   "metadata": {
    "collapsed": false,
    "pycharm": {
     "name": "#%% md\n"
    }
   }
  },
  {
   "cell_type": "markdown",
   "source": [
    "# 总结\n",
    "卷积层将输入和核矩阵进行交叉相关，加上偏移后得到输出\n",
    "核矩阵和偏移是可学习的参数\n",
    "核矩阵的大小是超参数"
   ],
   "metadata": {
    "collapsed": false,
    "pycharm": {
     "name": "#%% md\n"
    }
   }
  },
  {
   "cell_type": "markdown",
   "source": [
    "# 图像卷积"
   ],
   "metadata": {
    "collapsed": false,
    "pycharm": {
     "name": "#%% md\n"
    }
   }
  },
  {
   "cell_type": "code",
   "execution_count": 1,
   "outputs": [],
   "source": [
    "import torch\n",
    "from torch import nn\n",
    "from d2l import torch as d2l\n",
    "\n",
    "\n",
    "def corr2d(X, K):\n",
    "    \"\"\"计算二维互相关运算\"\"\"\n",
    "    h, w = K.shape\n",
    "    Y = torch.zeros((X.shape[0] - h + 1, X.shape[1] - w + 1))\n",
    "    for i in range(Y.shape[0]):\n",
    "        for j in range(Y.shape[1]):\n",
    "            Y[i, j] = (X[i:i + h, j:j + w] * K).sum()\n",
    "    return Y"
   ],
   "metadata": {
    "collapsed": false,
    "pycharm": {
     "name": "#%%\n"
    }
   }
  },
  {
   "cell_type": "markdown",
   "source": [
    "验证上述二维互相关运算的输出"
   ],
   "metadata": {
    "collapsed": false,
    "pycharm": {
     "name": "#%% md\n"
    }
   }
  },
  {
   "cell_type": "code",
   "execution_count": 2,
   "outputs": [
    {
     "data": {
      "text/plain": "tensor([[19., 25.],\n        [37., 43.]])"
     },
     "execution_count": 2,
     "metadata": {},
     "output_type": "execute_result"
    }
   ],
   "source": [
    "X = torch.tensor([[0.0, 1.0, 2.0], [3.0, 4.0, 5.0], [6.0, 7.0, 8.0]])\n",
    "K = torch.tensor([[0.0, 1.0], [2.0, 3.0]])\n",
    "corr2d(X, K)"
   ],
   "metadata": {
    "collapsed": false,
    "pycharm": {
     "name": "#%%\n"
    }
   }
  },
  {
   "cell_type": "markdown",
   "source": [
    "实现二维卷积层"
   ],
   "metadata": {
    "collapsed": false,
    "pycharm": {
     "name": "#%% md\n"
    }
   }
  },
  {
   "cell_type": "code",
   "execution_count": 3,
   "outputs": [],
   "source": [
    "class Conv2D(nn.Module):\n",
    "    def __init__(self, kernel_size):\n",
    "        super().__init__()\n",
    "        self.weight = nn.Parameter(torch.rand(kernel_size))\n",
    "        self.bias = nn.Parameter(torch.zeros(1))\n",
    "\n",
    "    def forward(self, x):\n",
    "        return corr2d(x, self.weight) + self.bias"
   ],
   "metadata": {
    "collapsed": false,
    "pycharm": {
     "name": "#%%\n"
    }
   }
  },
  {
   "cell_type": "markdown",
   "source": [
    "卷积层的一个简单应用：检测图像中不同颜色的边缘"
   ],
   "metadata": {
    "collapsed": false,
    "pycharm": {
     "name": "#%% md\n"
    }
   }
  },
  {
   "cell_type": "code",
   "execution_count": 4,
   "outputs": [
    {
     "data": {
      "text/plain": "tensor([[1., 1., 0., 0., 0., 0., 1., 1.],\n        [1., 1., 0., 0., 0., 0., 1., 1.],\n        [1., 1., 0., 0., 0., 0., 1., 1.],\n        [1., 1., 0., 0., 0., 0., 1., 1.],\n        [1., 1., 0., 0., 0., 0., 1., 1.],\n        [1., 1., 0., 0., 0., 0., 1., 1.]])"
     },
     "execution_count": 4,
     "metadata": {},
     "output_type": "execute_result"
    }
   ],
   "source": [
    "X = torch.ones((6, 8))\n",
    "X[:, 2:6] = 0\n",
    "X"
   ],
   "metadata": {
    "collapsed": false,
    "pycharm": {
     "name": "#%%\n"
    }
   }
  },
  {
   "cell_type": "code",
   "execution_count": 5,
   "outputs": [],
   "source": [
    "K = torch.tensor([[1.0, -1.0]])"
   ],
   "metadata": {
    "collapsed": false,
    "pycharm": {
     "name": "#%%\n"
    }
   }
  },
  {
   "cell_type": "markdown",
   "source": [
    "输出Y中的1代表从白色到黑色边缘，-1代表从黑色到白色的边缘"
   ],
   "metadata": {
    "collapsed": false,
    "pycharm": {
     "name": "#%% md\n"
    }
   }
  },
  {
   "cell_type": "code",
   "execution_count": 6,
   "outputs": [
    {
     "data": {
      "text/plain": "tensor([[ 0.,  1.,  0.,  0.,  0., -1.,  0.],\n        [ 0.,  1.,  0.,  0.,  0., -1.,  0.],\n        [ 0.,  1.,  0.,  0.,  0., -1.,  0.],\n        [ 0.,  1.,  0.,  0.,  0., -1.,  0.],\n        [ 0.,  1.,  0.,  0.,  0., -1.,  0.],\n        [ 0.,  1.,  0.,  0.,  0., -1.,  0.]])"
     },
     "execution_count": 6,
     "metadata": {},
     "output_type": "execute_result"
    }
   ],
   "source": [
    "Y = corr2d(X, K)\n",
    "Y"
   ],
   "metadata": {
    "collapsed": false,
    "pycharm": {
     "name": "#%%\n"
    }
   }
  },
  {
   "cell_type": "markdown",
   "source": [
    "卷积核K只可以检测垂直边缘"
   ],
   "metadata": {
    "collapsed": false,
    "pycharm": {
     "name": "#%% md\n"
    }
   }
  },
  {
   "cell_type": "code",
   "execution_count": 7,
   "outputs": [
    {
     "data": {
      "text/plain": "tensor([[0., 0., 0., 0., 0.],\n        [0., 0., 0., 0., 0.],\n        [0., 0., 0., 0., 0.],\n        [0., 0., 0., 0., 0.],\n        [0., 0., 0., 0., 0.],\n        [0., 0., 0., 0., 0.],\n        [0., 0., 0., 0., 0.],\n        [0., 0., 0., 0., 0.]])"
     },
     "execution_count": 7,
     "metadata": {},
     "output_type": "execute_result"
    }
   ],
   "source": [
    "corr2d(X.t(), K)"
   ],
   "metadata": {
    "collapsed": false,
    "pycharm": {
     "name": "#%%\n"
    }
   }
  },
  {
   "cell_type": "markdown",
   "source": [
    "学习由X生成Y的卷积核"
   ],
   "metadata": {
    "collapsed": false,
    "pycharm": {
     "name": "#%% md\n"
    }
   }
  },
  {
   "cell_type": "code",
   "execution_count": 11,
   "outputs": [
    {
     "name": "stdout",
     "output_type": "stream",
     "text": [
      "batch 2, loss 4.301\n",
      "batch 4, loss 0.775\n",
      "batch 6, loss 0.152\n",
      "batch 8, loss 0.034\n",
      "batch 10, loss 0.009\n",
      "batch 12, loss 0.003\n",
      "batch 14, loss 0.001\n",
      "batch 16, loss 0.000\n",
      "batch 18, loss 0.000\n",
      "batch 20, loss 0.000\n"
     ]
    }
   ],
   "source": [
    "conv2d = nn.Conv2d(1, 1, kernel_size=(1, 2), bias=False)\n",
    "X = X.reshape((1, 1, 6, 8))\n",
    "Y = Y.reshape((1, 1, 6, 7))\n",
    "for i in range(20):\n",
    "    Y_hat = conv2d(X)\n",
    "    l = (Y_hat - Y) ** 2\n",
    "    conv2d.zero_grad()\n",
    "    l.sum().backward()\n",
    "    conv2d.weight.data[:] -= 3e-2 * conv2d.weight.grad\n",
    "    if (i + 1) % 2 == 0:\n",
    "        print(f'batch {i + 1}, loss {l.sum():.3f}')"
   ],
   "metadata": {
    "collapsed": false,
    "pycharm": {
     "name": "#%%\n"
    }
   }
  },
  {
   "cell_type": "markdown",
   "source": [
    "所学的卷积核权重张量"
   ],
   "metadata": {
    "collapsed": false,
    "pycharm": {
     "name": "#%% md\n"
    }
   }
  },
  {
   "cell_type": "code",
   "execution_count": 12,
   "outputs": [
    {
     "data": {
      "text/plain": "tensor([[ 1.0008, -0.9990]])"
     },
     "execution_count": 12,
     "metadata": {},
     "output_type": "execute_result"
    }
   ],
   "source": [
    "conv2d.weight.data.reshape((1, 2))"
   ],
   "metadata": {
    "collapsed": false,
    "pycharm": {
     "name": "#%%\n"
    }
   }
  },
  {
   "cell_type": "code",
   "execution_count": null,
   "outputs": [],
   "source": [],
   "metadata": {
    "collapsed": false,
    "pycharm": {
     "name": "#%%\n"
    }
   }
  }
 ],
 "metadata": {
  "kernelspec": {
   "display_name": "Python 3",
   "language": "python",
   "name": "python3"
  },
  "language_info": {
   "codemirror_mode": {
    "name": "ipython",
    "version": 2
   },
   "file_extension": ".py",
   "mimetype": "text/x-python",
   "name": "python",
   "nbconvert_exporter": "python",
   "pygments_lexer": "ipython2",
   "version": "2.7.6"
  }
 },
 "nbformat": 4,
 "nbformat_minor": 0
}