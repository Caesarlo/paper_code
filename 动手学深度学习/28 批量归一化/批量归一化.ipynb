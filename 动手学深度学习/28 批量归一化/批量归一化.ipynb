{
 "cells": [
  {
   "cell_type": "markdown",
   "source": [
    "# 批量归一化\n",
    "损失出现在最后，后面的层训练较快\n",
    "数据在最底部\n",
    "底部的层训练较慢\n",
    "底部层一变化，所有都得跟着变\n",
    "最后的那些层需要重新学习多次\n",
    "·导致收敛变慢\n",
    "我们可以在学习底部层的时候避免变化顶部层吗?"
   ],
   "metadata": {
    "collapsed": false,
    "pycharm": {
     "name": "#%% md\n"
    }
   }
  },
  {
   "cell_type": "markdown",
   "source": [
    "# 批量归一化\n",
    "固定小批量里面的均值和方差\n",
    "$$\\mu_B=\\frac{1}{|B|}\\sum_{i\\in B}x_i\\mathrm{~and~}\\sigma_B^2=\\frac{1}{|B|}\\sum_{i\\in B}(x_i-\\mu_B)^2+\\epsilon $$\n",
    "然后再做额外的调整(可学习的参数)\n",
    "$$x_{i+1}=\\gamma\\frac{x_i-\\mu_B}{\\sigma_B}+\\beta $$\n"
   ],
   "metadata": {
    "collapsed": false,
    "pycharm": {
     "name": "#%% md\n"
    }
   }
  },
  {
   "cell_type": "code",
   "execution_count": 4,
   "outputs": [
    {
     "data": {
      "text/plain": "523.442923946678"
     },
     "execution_count": 4,
     "metadata": {},
     "output_type": "execute_result"
    }
   ],
   "source": [
    "import math\n",
    "\n",
    "a=3700/(math.pi*2.25)\n",
    "a"
   ],
   "metadata": {
    "collapsed": false,
    "pycharm": {
     "name": "#%%\n"
    }
   }
  }
 ],
 "metadata": {
  "kernelspec": {
   "display_name": "Python 3",
   "language": "python",
   "name": "python3"
  },
  "language_info": {
   "codemirror_mode": {
    "name": "ipython",
    "version": 2
   },
   "file_extension": ".py",
   "mimetype": "text/x-python",
   "name": "python",
   "nbconvert_exporter": "python",
   "pygments_lexer": "ipython2",
   "version": "2.7.6"
  }
 },
 "nbformat": 4,
 "nbformat_minor": 0
}