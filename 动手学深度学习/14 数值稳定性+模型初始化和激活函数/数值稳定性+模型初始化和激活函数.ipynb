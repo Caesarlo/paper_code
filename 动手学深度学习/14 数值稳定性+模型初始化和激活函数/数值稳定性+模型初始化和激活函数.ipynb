{
 "cells": [
  {
   "cell_type": "markdown",
   "source": [
    "### 神经网络的梯度\n",
    "·考虑如下有 d 层的神经网络\n",
    "\n",
    "$$\\mathbf{h}^t=f_t(\\mathbf{h}^{t-1})\\quad\\mathrm{and}\\quad y=\\ell\\circ f_d\\circ...\\circ f_1(\\mathbf{x})$$\n",
    "·计算损失$\\ell\\text{关于参数W}_t$的梯度\n",
    "$$\\frac{\\partial\\ell}{\\partial\\mathbf{W}^t}=\\frac{\\partial\\ell}{\\partial\\mathbf{h}^d}\\frac{\\partial\\mathbf{h}^d}{\\partial\\mathbf{h}^{d-1}}...\\frac{\\partial\\mathbf{h}^{t+1}}{\\partial\\mathbf{h}^t}\\frac{\\partial\\mathbf{h}^t}{\\partial\\mathbf{W}^t}$$\n",
    "\n",
    "- 例子： MLP ·加入如下 MLP (为了简单省略了偏移)\n",
    "\n",
    "$$\n",
    "f_t(\\mathbf{h}^{t-1})=\\sigma(\\mathbf{W}^t\\mathbf{h}^{t-1})\\ \\ \\  \\sigma 是激活函数\n",
    "$$\n",
    "\n",
    "$$\n",
    "\n",
    "\\frac{\\partial\\mathbf{h}^{t}}{\\partial\\mathbf{h}^{t-1}}=\\mathbf{diag}\\left(\\sigma^{\\prime}(\\mathbf{W}^{t}\\mathbf{h}^{t-1})\\right)(\\dot{W}^{t})^{T}\\quad\\sigma^{\\prime}\\text{是}\\sigma\\text{的导数函数}\n",
    "\\\\\n",
    "\\prod_{i=t}^{d-1}\\frac{\\partial\\mathbf{h}^{i+1}}{\\partial\\mathbf{h}^i}=\\prod_{i=t}^{d-1}\\text{diag}\\left(\\sigma^{\\prime}(\\mathbf{W}^i\\mathbf{h}^{i-1})\\right)(W^i)^T\n",
    "$$\n",
    "\n",
    "·使用 ReLU 作为激活函数\n",
    "\n",
    "$$\\sigma( x) = \\max ( 0, x) \\quad $and$\\quad \\sigma^{\\prime}( x) = \\begin{cases} 1& \\text{if}x> 0\\\\ 0& \\text{otherwise}& \\end{cases} $$\n",
    "$$.\\prod_{i=t}^{d-1}\\frac{\\partial\\mathbf{h}^{i+1}}{\\partial\\mathbf{h}^{i}}=\\prod_{i=t}^{d-1}\\mathrm{diag}\\left(\\sigma(\\mathbf{W}^{i}\\mathbf{h}^{i-1})\\right)(W^{i})^{T}\\text{的一些元素会来自于}\\prod_{i=t}^{d-1}(W^{i})^{T}$$\n",
    "如果 d-t 很大，值将会很大\n",
    "\n",
    "\n",
    "## 梯度爆炸的问题\n",
    "值超出值域(infinity)\n",
    "对于16位浮点数尤为严重(数值区间 6e-5-6e4\n",
    "对学习率敏感\n",
    "如果学习率太大-> 大参数值 -> 更大的梯度\n",
    "如果学习率太小->训练无进展\n",
    "我们可能需要在训练过程不断调整学习率"
   ],
   "metadata": {
    "collapsed": false,
    "pycharm": {
     "name": "#%% md\n"
    }
   }
  },
  {
   "cell_type": "markdown",
   "source": [
    "·目标： 让梯度值在合理的范围内\n",
    "\n",
    "·目标:让梯度值在合理的范围内\n",
    "   ·例如[le-6,1e3]\n",
    "· 将乘法变加法\n",
    "    ·ResNet,LSTM\n",
    "·归一化\n",
    "    梯度归一化，梯度裁剪\n",
    "合理的权重初始和激活函数\n",
    "\n",
    "让每层的方差是一个常数\n",
    "将每层的输出和梯度都看做随机变量。\n",
    "让它们的均值和方差都保持一致\n",
    "\n",
    "$\\begin{aligned}&\\text{正向}\\ \\ \\ \\ \\ \\ \\ \\ \\ \\ \\ \\ \\ \\ \\ \\ \\ \\ \\text{反向}\\\\&\\mathbb{E}[h_i^t]=0\\\\&\\text{Var}[h_i^t]=a\\end{aligned}\\quad\\mathbb{E}\\left[\\frac{\\partial\\ell}{\\partial h_i^t}\\right]=0\\quad\\text{Var}\\left[\\frac{\\partial\\ell}{\\partial h_i^t}\\right]=b\\quad\\forall i,t$\n",
    "\n",
    "$\\text{а 和 b 都是常数}$\n"
   ],
   "metadata": {
    "collapsed": false,
    "pycharm": {
     "name": "#%% md\n"
    }
   }
  },
  {
   "cell_type": "markdown",
   "source": [
    "例子:MLP\n",
    "假设\n",
    "$w_{i,j}^t$ 是 i.i.d, 那么E[w$_{i, j}^t] = 0, $ Var$[ w_{i, j}^t] = \\gamma_t$\n",
    "\n",
    "· $h_i^{t-1}$ 独立于 $w_{i,j}^t$\n",
    "$\\boldsymbol{\\cdot}\\text{ 假设没有激活函数 }\\mathbf{h}^{\\prime}=\\mathbf{W}^t\\mathbf{h}^{t-1}\\text{,这里 }\\mathbf{W}^t\\in\\mathbb{R}^{n,\\times n_{t-1}}$\n",
    "\n",
    "$\\mathbb{E}[h_i^t]=\\mathbb{E}\\left[\\sum_jw_{i,j}^th_j^{t-1}\\right]=\\sum_j\\mathbb{E}[w_{i,j}^t]\\mathbb{E}[h_j^{t-1}]=0$\n"
   ],
   "metadata": {
    "collapsed": false,
    "pycharm": {
     "name": "#%% md\n"
    }
   }
  },
  {
   "cell_type": "markdown",
   "source": [
    "$\\text{正向方差}$\n",
    "\n",
    "$$\n",
    "\\begin{aligned}\n",
    "\\mathbf{Var}[h_{i}^{t}]& =\\mathbb{E}[(h_i^t)^2]-\\mathbb{E}[h_i^t]^2=\\mathbb{E}\\left[\\left(\\sum_jw_{i,j}^th_j^{t-1}\\right)^2\\right]  \\\\\n",
    "&=\\mathbb{E}\\left[\\sum_j\\left(w_{i,j}^t\\right)^2\\left(h_j^{t-1}\\right)^2+\\sum_{j\\neq k}w_{i,j}^tw_{i,k}^th_j^{t-1}h_k^{t-1}\\right] \\\\\n",
    "&=\\sum_j\\mathbb{E}\\left[\\left(w_{i,j}^t\\right)^2\\right]\\mathbb{E}\\left[\\left(h_j^{t-1}\\right)^2\\right] \\\\\n",
    "&=\\sum_j\\mathrm{Var}[w_{i,j}^t]\\mathrm{Var}[h_j^{t-1}]=n_{t-1}\\gamma_t\\mathrm{Var}[h_j^{t-1}]\n",
    "\\end{aligned}\n",
    "\\\\\n",
    "\\\\\n",
    "n_{t-1}\\gamma_t=1\n",
    "$$"
   ],
   "metadata": {
    "collapsed": false,
    "pycharm": {
     "name": "#%% md\n"
    }
   }
  },
  {
   "cell_type": "markdown",
   "source": [
    "反向均值和方差\n",
    "跟正向情况类似\n",
    "$$\\begin{aligned}\n",
    "&\\frac{\\partial\\ell}{\\partial\\mathbf{h}^{t-1}}=\\frac{\\partial\\ell}{\\partial\\mathbf{h}^{t}}\\mathbf{W}^{t}→\\quad\\left(\\frac{\\partial\\ell}{\\partial\\mathbf{h}^{t-1}}\\right)^{T}=(W^{t})^{T}\\bigg(\\frac{\\partial\\ell}{\\partial\\mathbf{h}^{t}}\\bigg)^{T} \\\\\n",
    "&\\mathbb{E}\\left[\\frac{\\partial\\ell}{\\partial h_i^{t-1}}\\right]=0 \\\\\n",
    "&\\mathrm{Var}\\left[\\frac{\\partial\\ell}{\\partial h_{i}^{t-1}}\\right]=n_{t}\\gamma_{t}\\mathrm{Var}\\left[\\frac{\\partial\\ell}{\\partial h_{j}^{t}}\\right]\\quad →n_{t}\\gamma_{t}=1\n",
    "\\end{aligned}$$"
   ],
   "metadata": {
    "collapsed": false,
    "pycharm": {
     "name": "#%% md\n"
    }
   }
  },
  {
   "cell_type": "markdown",
   "source": [
    "### Xavier初始\n",
    "难以需要满足$n_{t-1}\\gamma_t=1$和$n_t\\gamma_t=1$\n",
    "·Xavier 使得 $\\gamma_t(n_{t-1}+n_t)/2=1\\quad\\to\\gamma_t=2/(n_{t-1}+n_t)$\n",
    " · 正态分布 $\\mathcal{N}\\left(0,\\sqrt{2l(n_{t-1}+n_t)}\\right)$\n",
    " . 均匀分布 $\\mathcal{U}\\left(-\\sqrt{6/(n_{t-1}+n_t)},\\sqrt{6/(n_{t-1}+n_t)}\\right)$\n",
    " ·分布 $\\mathcal{U}_{[-a,a]}$ 和方差是 $a^2/3$\n",
    "\n",
    "·适配权重形状变换，特别是$n_t$"
   ],
   "metadata": {
    "collapsed": false,
    "pycharm": {
     "name": "#%% md\n"
    }
   },
   "outputs": [
    {
     "ename": "SyntaxError",
     "evalue": "invalid syntax (1365533028.py, line 1)",
     "output_type": "error",
     "traceback": [
      "\u001B[1;36m  Cell \u001B[1;32mIn[1], line 1\u001B[1;36m\u001B[0m\n\u001B[1;33m    难以需要满足$n_{t-1}\\gamma_t=1$和$n_t\\gamma_t=1$ ·Xavier 使得 $\\gamma_t(n_{t-1}+n_t)/2=1\\quad\\to\\gamma_t=2/(n_{t-1}+n_t)$\u001B[0m\n\u001B[1;37m          ^\u001B[0m\n\u001B[1;31mSyntaxError\u001B[0m\u001B[1;31m:\u001B[0m invalid syntax\n"
     ]
    }
   ],
   "execution_count": 1
  },
  {
   "cell_type": "markdown",
   "source": [
    "### 假设线性的激活函数\n",
    "$$\\begin{aligned}\n",
    "\\bullet\\text{ 假设 }\\sigma(x)& =\\alpha x+\\beta   \\\\\n",
    "&\\mathbf{h}^{\\prime}=\\mathbf{W}^{t}\\mathbf{h}^{t-1}\\quad\\mathbf{and}\\quad\\mathbf{h}^{t}=\\sigma(\\mathbf{h}^{\\prime}) \\\\\n",
    "\\mathbb{E}[h_i^t]&   =\\mathbb{E}\\left[\\alpha h_{i}^{\\prime}+\\beta\\right]=\\beta\\quad\\quad\\quad\\quad\\quad\\quad\\quad\\quad\\quad\\quad\\quad\\beta=0  \\\\\n",
    "\\operatorname{Var}[h_{i}^{t}]&   \\\\\n",
    "& =\\mathbb{E}[(\\alpha h_{i}^{\\prime}+\\beta)^{2}]-\\beta^{2}\\quad\\quad\\quad\\quad\\quad\\quad\\quad\\quad\\quad\\quad\\alpha=1    \\\\\n",
    "&=\\mathbb{E}[\\alpha^2(h_i^{\\prime})^2+2\\alpha\\beta h_i^{\\prime}+\\beta^2]-\\beta^2 \\\\\n",
    "&=\\alpha^2\\text{Var}[h_i^{\\prime}]\n",
    "\\end{aligned}$$"
   ],
   "metadata": {
    "collapsed": false,
    "pycharm": {
     "name": "#%% md\n"
    }
   }
  },
  {
   "cell_type": "markdown",
   "source": [
    "### 反向\n",
    "$$\\begin{aligned}\\bullet\\text{ 假设 }\\sigma(x)&=\\alpha x+\\beta\\\\\\frac{\\partial\\ell}{\\partial\\mathbf{h}^{\\prime}}&=\\frac{\\partial\\ell}{\\partial\\mathbf{h}^{\\prime}}(W^t)^T\\quad\\mathrm{and}\\quad\\frac{\\partial\\ell}{\\partial\\mathbf{h}^{t-1}}=\\alpha\\frac{\\partial\\ell}{\\partial\\mathbf{h}^{\\prime}}\\end{aligned}\\\\\n",
    "\\begin{aligned}&\\mathbb{E}\\left[\\frac{\\partial\\ell}{\\partial h_i^{t-1}}\\right]=0&&\\color{red}{\\boxed{\\Rightarrow}}&\\beta=0\\\\[2ex]&\\mathrm{Var}\\left[\\frac{\\partial\\ell}{\\partial h_i^{t-1}}\\right]=\\alpha^2\\mathrm{Var}\\left[\\frac{\\partial\\ell}{\\partial h_j^{\\prime}}\\right]&&\\color{red}{\\boxed{\\Rightarrow}}&\\alpha=1\\end{aligned}\n",
    "$$\n",
    "### 检查激活函数\n",
    "使用泰勒展开\n",
    "$$\n",
    "\\mathrm{sigmoid}(x)=\\frac12+\\frac x4-\\frac{x^3}{48}+O(x^5)\\\\\n",
    "\\tanh(x)=0+x-\\frac{x^3}3+O(x^5)\\\\\n",
    "\\mathrm{relu}(x)=0+x\\quad\\mathrm{for}x\\geq0\\\\\n",
    "$$\n",
    "\n",
    "·调整 sigmoid:\n",
    "$$4\\times\\mathrm{sigmoid}(x)-2$$"
   ],
   "metadata": {
    "collapsed": false,
    "pycharm": {
     "name": "#%% md\n"
    }
   }
  },
  {
   "cell_type": "code",
   "execution_count": null,
   "outputs": [],
   "source": [],
   "metadata": {
    "collapsed": false,
    "pycharm": {
     "name": "#%%\n"
    }
   }
  }
 ],
 "metadata": {
  "kernelspec": {
   "display_name": "Python 3",
   "language": "python",
   "name": "python3"
  },
  "language_info": {
   "codemirror_mode": {
    "name": "ipython",
    "version": 2
   },
   "file_extension": ".py",
   "mimetype": "text/x-python",
   "name": "python",
   "nbconvert_exporter": "python",
   "pygments_lexer": "ipython2",
   "version": "2.7.6"
  }
 },
 "nbformat": 4,
 "nbformat_minor": 0
}