{
 "cells": [
  {
   "cell_type": "markdown",
   "source": [
    "# 多个输入通道\n",
    "彩色图像可能有RGB三个通道\n",
    "转换为灰度会丢失信息"
   ],
   "metadata": {
    "collapsed": false,
    "pycharm": {
     "name": "#%% md\n"
    }
   }
  },
  {
   "cell_type": "markdown",
   "source": [
    "# 多个输入通道\n",
    "每个通道都有一个卷积核，结果是所有通道卷积结果的和\n",
    " ·输入$\\mathbf{X}:c_i\\times n_h\\times n_w$\n",
    " ·核$\\mathbf{W}:c_i\\times k_h\\times k_w$\n",
    " ·输出$\\mathbf{Y}:m_{h}\\times m_{w}$\n",
    " $$\\mathbf{Y}=\\sum_{i=0}^{c_i}\\mathbf{X}_{i,:,:}\\star\\mathbf{W}_{i,:,:}$$"
   ],
   "metadata": {
    "collapsed": false,
    "pycharm": {
     "name": "#%% md\n"
    }
   }
  },
  {
   "cell_type": "markdown",
   "source": [
    "# 多个输出通道\n",
    "无论有多少输入通道，到目前为止我们只用到单输出通道\n",
    "我们可以有多个三维卷积核，每个核生成一个输出通道\n",
    "\n",
    "· 输入$\\mathbf{X}:c_i\\times n_h\\times n_w$\n",
    "·核$\\mathbf{W}:c_{o}\\times c_{i}\\times k_{h}\\times k_{w}$\n",
    "·输出$\\mathbf{Y}:c_o\\times m_h$文$m_{w}$\n",
    "$$\\mathbf{Y}_{i,:,:}=\\mathbf{X}\\star\\mathbf{W}_{i,:,:,:}\\quad\\text{for}i=1,...,c_o$$"
   ],
   "metadata": {
    "collapsed": false,
    "pycharm": {
     "name": "#%% md\n"
    }
   }
  },
  {
   "cell_type": "markdown",
   "source": [
    "# 多个输入和输出通道\n",
    "·每个输出通道可以识别特定模式\n",
    "输入通道核识别并组合输入中的模式"
   ],
   "metadata": {
    "collapsed": false,
    "pycharm": {
     "name": "#%% md\n"
    }
   }
  },
  {
   "cell_type": "markdown",
   "source": [
    "# 1x1卷积层\n",
    "$k_{h}=k_{w}=1$是一个受欢迎的选择。 它不识别空间模式，只是融合通道。\n"
   ],
   "metadata": {
    "collapsed": false,
    "pycharm": {
     "name": "#%% md\n"
    }
   }
  }
 ],
 "metadata": {
  "kernelspec": {
   "display_name": "Python 3",
   "language": "python",
   "name": "python3"
  },
  "language_info": {
   "codemirror_mode": {
    "name": "ipython",
    "version": 2
   },
   "file_extension": ".py",
   "mimetype": "text/x-python",
   "name": "python",
   "nbconvert_exporter": "python",
   "pygments_lexer": "ipython2",
   "version": "2.7.6"
  }
 },
 "nbformat": 4,
 "nbformat_minor": 0
}