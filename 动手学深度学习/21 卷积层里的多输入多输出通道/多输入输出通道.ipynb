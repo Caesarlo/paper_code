{
 "cells": [
  {
   "cell_type": "markdown",
   "source": [
    "# 多个输入通道\n",
    "彩色图像可能有RGB三个通道\n",
    "转换为灰度会丢失信息"
   ],
   "metadata": {
    "collapsed": false,
    "pycharm": {
     "name": "#%% md\n"
    }
   }
  },
  {
   "cell_type": "markdown",
   "source": [
    "# 多个输入通道\n",
    "每个通道都有一个卷积核，结果是所有通道卷积结果的和\n",
    " ·输入$\\mathbf{X}:c_i\\times n_h\\times n_w$\n",
    " ·核$\\mathbf{W}:c_i\\times k_h\\times k_w$\n",
    " ·输出$\\mathbf{Y}:m_{h}\\times m_{w}$\n",
    " $$\\mathbf{Y}=\\sum_{i=0}^{c_i}\\mathbf{X}_{i,:,:}\\star\\mathbf{W}_{i,:,:}$$"
   ],
   "metadata": {
    "collapsed": false,
    "pycharm": {
     "name": "#%% md\n"
    }
   }
  },
  {
   "cell_type": "markdown",
   "source": [
    "# 多个输出通道\n",
    "无论有多少输入通道，到目前为止我们只用到单输出通道\n",
    "我们可以有多个三维卷积核，每个核生成一个输出通道\n",
    "\n",
    "· 输入$\\mathbf{X}:c_i\\times n_h\\times n_w$\n",
    "·核$\\mathbf{W}:c_{o}\\times c_{i}\\times k_{h}\\times k_{w}$\n",
    "·输出$\\mathbf{Y}:c_o\\times m_h$文$m_{w}$\n",
    "$$\\mathbf{Y}_{i,:,:}=\\mathbf{X}\\star\\mathbf{W}_{i,:,:,:}\\quad\\text{for}i=1,...,c_o$$"
   ],
   "metadata": {
    "collapsed": false,
    "pycharm": {
     "name": "#%% md\n"
    }
   }
  },
  {
   "cell_type": "markdown",
   "source": [
    "# 多个输入和输出通道\n",
    "·每个输出通道可以识别特定模式\n",
    "输入通道核识别并组合输入中的模式"
   ],
   "metadata": {
    "collapsed": false,
    "pycharm": {
     "name": "#%% md\n"
    }
   }
  },
  {
   "cell_type": "markdown",
   "source": [
    "# 1x1卷积层\n",
    "$k_{h}=k_{w}=1$是一个受欢迎的选择。 它不识别空间模式，只是融合通道。\n",
    "相当于输入形状为$n_hn_w\\times c_i$,权重为$c_o\\times c_i$的"
   ],
   "metadata": {
    "collapsed": false,
    "pycharm": {
     "name": "#%% md\n"
    }
   }
  },
  {
   "cell_type": "markdown",
   "source": [
    "# 二维卷积层\n",
    "·输入$\\mathbf{X}:c_{i}\\times n_{h}\\times n_{w}$\n",
    "·核$\\mathbf{W}:c_{o}\\times c_{i}\\times k_{h}\\times k_{w}$\n",
    "·偏差 B : $c_{o}\\times c_{i}$\n",
    "·输出$\\mathbf{Y}:c_{o}\\times m_{h}\\times m_{w}$\n",
    "·计算复杂度 (浮点计算数 FLOP) $O(c_ic_ok_hk_wm_hm_w)$\n",
    "$$\\mathbf{Y=X}\\star\\mathbf{W}+\\mathbf{B}$$\n",
    "\n",
    "$$\\begin{array}{c}c_i=c_o=100\\\\k_h=h_w=5\\\\m_h=m_w=64\\end{array}$$\n",
    "$$\\Downarrow$$\n",
    "$$1GFLOP$$\n",
    "10层，1M 样本，10 PFlops(CPU: 0.15 TF=18h,GPU: 2 TF=14min)"
   ],
   "metadata": {
    "collapsed": false,
    "pycharm": {
     "name": "#%% md\n"
    }
   }
  },
  {
   "cell_type": "markdown",
   "source": [
    "# 总结\n",
    "输出通道数是卷积层的超参数\n",
    "每个输入通道有独立的二维卷积核，所有通道结果相加得到一个输出通道结果\n",
    "每个输出通道有独立的三维卷积核"
   ],
   "metadata": {
    "collapsed": false,
    "pycharm": {
     "name": "#%% md\n"
    }
   }
  },
  {
   "cell_type": "markdown",
   "source": [
    "# 多输入多输出通道\n",
    "实现一下多输入通道互相关运算"
   ],
   "metadata": {
    "collapsed": false,
    "pycharm": {
     "name": "#%% md\n"
    }
   }
  },
  {
   "cell_type": "code",
   "execution_count": 2,
   "outputs": [],
   "source": [
    "import torch\n",
    "from d2l import torch as d2l\n",
    "\n",
    "\n",
    "def corr2d_multi_in(X, K):\n",
    "    return sum(d2l.corr2d(x, k) for x, k in zip(X, K))"
   ],
   "metadata": {
    "collapsed": false,
    "pycharm": {
     "name": "#%%\n"
    }
   }
  },
  {
   "cell_type": "markdown",
   "source": [
    "验证互相关运算的输出"
   ],
   "metadata": {
    "collapsed": false,
    "pycharm": {
     "name": "#%% md\n"
    }
   }
  },
  {
   "cell_type": "code",
   "execution_count": 3,
   "outputs": [
    {
     "data": {
      "text/plain": "tensor([[ 56.,  72.],\n        [104., 120.]])"
     },
     "execution_count": 3,
     "metadata": {},
     "output_type": "execute_result"
    }
   ],
   "source": [
    "X = torch.tensor([[[0.0, 1.0, 2.0], [3.0, 4.0, 5.0], [6.0, 7.0, 8.]],\n",
    "                  [[1.0, 2.0, 3.0], [4.0, 5.0, 6.0], [7.0, 8.0, 9.0]]])\n",
    "K = torch.tensor([[[0.0, 1.0], [2.0, 3.0]], [[1.0, 2.0], [3.0, 4.0]]])\n",
    "\n",
    "corr2d_multi_in(X, K)"
   ],
   "metadata": {
    "collapsed": false,
    "pycharm": {
     "name": "#%%\n"
    }
   }
  },
  {
   "cell_type": "markdown",
   "source": [
    "计算多通道的输出的互相关函数"
   ],
   "metadata": {
    "collapsed": false,
    "pycharm": {
     "name": "#%% md\n"
    }
   }
  },
  {
   "cell_type": "code",
   "execution_count": 4,
   "outputs": [
    {
     "data": {
      "text/plain": "torch.Size([3, 2, 2, 2])"
     },
     "execution_count": 4,
     "metadata": {},
     "output_type": "execute_result"
    }
   ],
   "source": [
    "def corr2d_multi_in_out(X, K):\n",
    "    return torch.stack([corr2d_multi_in(X, k) for k in K], 0)\n",
    "\n",
    "\n",
    "K = torch.stack((K, K + 1, K + 2), 0)\n",
    "K.shape"
   ],
   "metadata": {
    "collapsed": false,
    "pycharm": {
     "name": "#%%\n"
    }
   }
  },
  {
   "cell_type": "code",
   "execution_count": 5,
   "outputs": [
    {
     "data": {
      "text/plain": "tensor([[[ 56.,  72.],\n         [104., 120.]],\n\n        [[ 76., 100.],\n         [148., 172.]],\n\n        [[ 96., 128.],\n         [192., 224.]]])"
     },
     "execution_count": 5,
     "metadata": {},
     "output_type": "execute_result"
    }
   ],
   "source": [
    "corr2d_multi_in_out(X, K)"
   ],
   "metadata": {
    "collapsed": false,
    "pycharm": {
     "name": "#%%\n"
    }
   }
  },
  {
   "cell_type": "markdown",
   "source": [
    "1×1卷积"
   ],
   "metadata": {
    "collapsed": false,
    "pycharm": {
     "name": "#%% md\n"
    }
   }
  },
  {
   "cell_type": "code",
   "execution_count": 6,
   "outputs": [],
   "source": [
    "def corr2d_multi_in_out_1x1(X, K):\n",
    "    c_i, h, w = X.shape\n",
    "    c_o = K.shape[0]\n",
    "    X = X.reshape((c_i, h * w))\n",
    "    K = K.reshape((c_o, c_i))\n",
    "    Y = torch.matmul(K, X)\n",
    "    return Y.reshape((c_o, h, w))\n",
    "\n",
    "\n",
    "X = torch.normal(0, 1, (3, 3, 3))\n",
    "K = torch.normal(0, 1, (2, 3, 1, 1))\n",
    "\n",
    "Y1 = corr2d_multi_in_out_1x1(X, K)\n",
    "Y2 = corr2d_multi_in_out(X, K)\n",
    "assert float(torch.abs(Y1 - Y2).sum()) < 1e-6"
   ],
   "metadata": {
    "collapsed": false,
    "pycharm": {
     "name": "#%%\n"
    }
   }
  },
  {
   "cell_type": "code",
   "execution_count": null,
   "outputs": [],
   "source": [],
   "metadata": {
    "collapsed": false,
    "pycharm": {
     "name": "#%%\n"
    }
   }
  }
 ],
 "metadata": {
  "kernelspec": {
   "display_name": "Python 3",
   "language": "python",
   "name": "python3"
  },
  "language_info": {
   "codemirror_mode": {
    "name": "ipython",
    "version": 2
   },
   "file_extension": ".py",
   "mimetype": "text/x-python",
   "name": "python",
   "nbconvert_exporter": "python",
   "pygments_lexer": "ipython2",
   "version": "2.7.6"
  }
 },
 "nbformat": 4,
 "nbformat_minor": 0
}