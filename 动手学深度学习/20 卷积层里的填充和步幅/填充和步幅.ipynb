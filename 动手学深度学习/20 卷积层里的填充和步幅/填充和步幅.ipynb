{
 "cells": [
  {
   "cell_type": "markdown",
   "source": [
    "# 填充\n",
    "给定(32x32)输入图像\n",
    "应用5x5大小的 卷积核\n",
    "第1层得到输出大小28x28\n",
    "第7层得到输出大小4x4\n",
    "更大的卷积核可以更快地减小输出大小\n",
    "形状从$n_h\\times n_w$减少到\n",
    "$$\n",
    "(n_h-k_h+1)\\times(n_w-k_w+1)\n",
    "$$"
   ],
   "metadata": {
    "collapsed": false,
    "pycharm": {
     "name": "#%% md\n"
    }
   }
  },
  {
   "cell_type": "markdown",
   "source": [
    "·填充$p_h$行和$p_w$列，输出形状为\n",
    "\n",
    "$$\n",
    "(n_h-k_h+p_h+1)\\times(n_w-k_w+p_w+1)\n",
    "$$\n",
    "\n",
    "·通常取$p_h=k_h-1,\\quad p_w=k_w-1$\n",
    "·当$k_h$为奇数：在上下两侧填充$p_h$/2\n",
    "·当$k_h$为偶数：在上侧填充$「p_h/2⌉$, 在下侧填充$\\lfloor p_h/2\\rfloor $"
   ],
   "metadata": {
    "collapsed": false,
    "pycharm": {
     "name": "#%% md\n"
    }
   }
  },
  {
   "cell_type": "markdown",
   "source": [
    "# 步幅\n",
    "填充减小的输出大小与层数线性相关\n",
    "给定输入大小224x224，在使用5x5卷积核的情况下，需要44层将输出降低到4x4\n",
    "需要大量计算才能得到较小输出"
   ],
   "metadata": {
    "collapsed": false,
    "pycharm": {
     "name": "#%% md\n"
    }
   }
  },
  {
   "cell_type": "markdown",
   "source": [
    "·给定高度$s_h$和宽度$s_{\\nu}$的步幅，输出形状是\n",
    "\n",
    "$$\n",
    "\\lfloor(n_h-k_h+p_h+s_h)/s_h\\rfloor\\times\\lfloor(n_w-k_w+p_w+s_w)/s_w\\rfloor\n",
    "$$\n",
    "\n",
    "$\\begin{aligned}\\bullet&\\text{ 如果 }p_h=k_h-1,\\quad p_w=k_w-1\\\\\\\\&\\lfloor(n_h+s_h-1)/s_h\\rfloor\\times\\lfloor(n_w+s_w-1)/s_w\\rfloor\\end{aligned}$\n",
    "\n",
    " 如果输入高度和宽度可以被步幅整除\n",
    "\n",
    "$$\n",
    "(n_h/s_h)\\times(n_w/s_w)\n",
    "$$"
   ],
   "metadata": {
    "collapsed": false,
    "pycharm": {
     "name": "#%% md\n"
    }
   }
  },
  {
   "cell_type": "markdown",
   "source": [
    "# 总结\n",
    "填充和步幅是卷积层的超参数\n",
    "填充在输入周围添加额外的行/列，来控制输出形状的减少量\n",
    "步幅是每次滑动核窗口时的行/列的步长，可以成倍的减少输出形状"
   ],
   "metadata": {
    "collapsed": false,
    "pycharm": {
     "name": "#%% md\n"
    }
   }
  },
  {
   "cell_type": "markdown",
   "source": [
    "# 填充和步幅\n",
    "在所有侧边填充一个像素"
   ],
   "metadata": {
    "collapsed": false,
    "pycharm": {
     "name": "#%% md\n"
    }
   }
  },
  {
   "cell_type": "code",
   "execution_count": 2,
   "outputs": [
    {
     "data": {
      "text/plain": "torch.Size([8, 8])"
     },
     "execution_count": 2,
     "metadata": {},
     "output_type": "execute_result"
    }
   ],
   "source": [
    "import torch\n",
    "from torch import nn\n",
    "\n",
    "\n",
    "def comp_conv2d(conv2d, X):\n",
    "    X = X.reshape((1, 1) + X.shape)\n",
    "    Y = conv2d(X)\n",
    "    return Y.reshape(Y.shape[2:])\n",
    "\n",
    "\n",
    "conv2d = nn.Conv2d(1, 1, kernel_size=3, padding=1)\n",
    "X = torch.rand(size=(8, 8))\n",
    "comp_conv2d(conv2d, X).shape"
   ],
   "metadata": {
    "collapsed": false,
    "pycharm": {
     "name": "#%%\n"
    }
   }
  },
  {
   "cell_type": "markdown",
   "source": [
    "填充不同的高度和宽度"
   ],
   "metadata": {
    "collapsed": false,
    "pycharm": {
     "name": "#%% md\n"
    }
   }
  },
  {
   "cell_type": "code",
   "execution_count": 4,
   "outputs": [
    {
     "data": {
      "text/plain": "torch.Size([8, 8])"
     },
     "execution_count": 4,
     "metadata": {},
     "output_type": "execute_result"
    }
   ],
   "source": [
    "conv2d = nn.Conv2d(1, 1, kernel_size=(5, 3), padding=(2, 1))\n",
    "comp_conv2d(conv2d, X).shape"
   ],
   "metadata": {
    "collapsed": false,
    "pycharm": {
     "name": "#%%\n"
    }
   }
  },
  {
   "cell_type": "markdown",
   "source": [
    "将高度和宽度的步幅设置为2"
   ],
   "metadata": {
    "collapsed": false,
    "pycharm": {
     "name": "#%% md\n"
    }
   }
  },
  {
   "cell_type": "code",
   "execution_count": 5,
   "outputs": [
    {
     "data": {
      "text/plain": "torch.Size([4, 4])"
     },
     "execution_count": 5,
     "metadata": {},
     "output_type": "execute_result"
    }
   ],
   "source": [
    "conv2d = nn.Conv2d(1, 1, kernel_size=3, padding=1, stride=2)\n",
    "comp_conv2d(conv2d,X).shape"
   ],
   "metadata": {
    "collapsed": false,
    "pycharm": {
     "name": "#%%\n"
    }
   }
  },
  {
   "cell_type": "markdown",
   "source": [
    "一个稍微复杂的例子"
   ],
   "metadata": {
    "collapsed": false,
    "pycharm": {
     "name": "#%% md\n"
    }
   }
  },
  {
   "cell_type": "code",
   "execution_count": 6,
   "outputs": [
    {
     "data": {
      "text/plain": "torch.Size([2, 2])"
     },
     "execution_count": 6,
     "metadata": {},
     "output_type": "execute_result"
    }
   ],
   "source": [
    "conv2d=nn.Conv2d(1,1,kernel_size=(3,5),padding=(0,1),stride=(3,4))\n",
    "comp_conv2d(conv2d,X).shape"
   ],
   "metadata": {
    "collapsed": false,
    "pycharm": {
     "name": "#%%\n"
    }
   }
  },
  {
   "cell_type": "markdown",
   "source": [
    "# 总结\n",
    "填充和步幅是卷积层的超参数\n",
    "填充在输入周围添加额外的行/列，来控制输出形状的减少量\n",
    "步幅是每次滑动核窗口时的行/列的步长，可以成倍的减少输出形状"
   ],
   "metadata": {
    "collapsed": false,
    "pycharm": {
     "name": "#%% md\n"
    }
   }
  }
 ],
 "metadata": {
  "kernelspec": {
   "display_name": "Python 3",
   "language": "python",
   "name": "python3"
  },
  "language_info": {
   "codemirror_mode": {
    "name": "ipython",
    "version": 2
   },
   "file_extension": ".py",
   "mimetype": "text/x-python",
   "name": "python",
   "nbconvert_exporter": "python",
   "pygments_lexer": "ipython2",
   "version": "2.7.6"
  }
 },
 "nbformat": 4,
 "nbformat_minor": 0
}